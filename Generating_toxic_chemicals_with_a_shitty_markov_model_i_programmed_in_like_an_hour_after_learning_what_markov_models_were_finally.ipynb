{
  "nbformat": 4,
  "nbformat_minor": 0,
  "metadata": {
    "colab": {
      "name": "Generating_toxic_chemicals_with_a_shitty_markov_model_i_programmed_in_like_an_hour_after_learning_what_markov_models_were_finally.ipynb",
      "provenance": [],
      "collapsed_sections": [],
      "toc_visible": true
    },
    "kernelspec": {
      "name": "python3",
      "display_name": "Python 3"
    }
  },
  "cells": [
    {
      "cell_type": "markdown",
      "metadata": {
        "id": "dTuYImAJwl2S",
        "colab_type": "text"
      },
      "source": [
        "# downloading data\n"
      ]
    },
    {
      "cell_type": "code",
      "metadata": {
        "id": "Vx39gIXQwL-T",
        "colab_type": "code",
        "outputId": "cab57a7b-c355-4375-e78c-ef3cc2cc0b77",
        "colab": {
          "base_uri": "https://localhost:8080/",
          "height": 243
        }
      },
      "source": [
        "!wget 'https://gist.githubusercontent.com/spronkoid/65dfb2b6a9b31d7cbb40a7a8df09f58d/raw/d82a5f995cfc9512092ff9658e66d335768b0cf7/toxicfuckingchemicals.txt'"
      ],
      "execution_count": 2,
      "outputs": [
        {
          "output_type": "stream",
          "text": [
            "--2020-04-08 15:56:16--  https://gist.githubusercontent.com/spronkoid/65dfb2b6a9b31d7cbb40a7a8df09f58d/raw/d82a5f995cfc9512092ff9658e66d335768b0cf7/toxicfuckingchemicals.txt\n",
            "Resolving gist.githubusercontent.com (gist.githubusercontent.com)... 151.101.0.133, 151.101.64.133, 151.101.128.133, ...\n",
            "Connecting to gist.githubusercontent.com (gist.githubusercontent.com)|151.101.0.133|:443... connected.\n",
            "HTTP request sent, awaiting response... 200 OK\n",
            "Length: 6271 (6.1K) [text/plain]\n",
            "Saving to: ‘toxicfuckingchemicals.txt.1’\n",
            "\n",
            "\r          toxicfuck   0%[                    ]       0  --.-KB/s               \rtoxicfuckingchemica 100%[===================>]   6.12K  --.-KB/s    in 0s      \n",
            "\n",
            "2020-04-08 15:56:17 (79.7 MB/s) - ‘toxicfuckingchemicals.txt.1’ saved [6271/6271]\n",
            "\n"
          ],
          "name": "stdout"
        }
      ]
    },
    {
      "cell_type": "code",
      "metadata": {
        "id": "sPm7u7_Qn8jm",
        "colab_type": "code",
        "colab": {}
      },
      "source": [
        "with open('/content/toxicfuckingchemicals.txt', 'r') as file:\n",
        "    str = file.read().lower()"
      ],
      "execution_count": 0,
      "outputs": []
    },
    {
      "cell_type": "markdown",
      "metadata": {
        "id": "o-X67aVJwd1K",
        "colab_type": "text"
      },
      "source": [
        "# building the data"
      ]
    },
    {
      "cell_type": "code",
      "metadata": {
        "id": "WKO3B4Izcpza",
        "colab_type": "code",
        "colab": {}
      },
      "source": [
        "# simplest text generation method, a (random?) markov model\n",
        "# str = 'mary had a little lamb, little lamb, little lamb, mary had a little lamb whos fleece was white as snow'\n",
        "# we're gonna do a c h a r a c t e r based markov model because idk why\n",
        "\n",
        "input_length = 4\n",
        "\n",
        "\n",
        "sequence = []\n",
        "label = []\n",
        "raw = []\n",
        "def split(word): \n",
        "    return [char for char in word]  \n",
        "for i in range(len(split(str)[0:-input_length])):\n",
        "    seq = []\n",
        "    for j in range(input_length):\n",
        "        seq.append(str[j+i])\n",
        "    sequence.append(seq)\n",
        "    label.append(str[i+input_length])\n",
        "\n",
        "    raw.append([seq, str[i+input_length]])"
      ],
      "execution_count": 0,
      "outputs": []
    },
    {
      "cell_type": "code",
      "metadata": {
        "id": "Oqk7CHMmdYei",
        "colab_type": "code",
        "outputId": "23ca1482-ec52-47e5-d7ab-61043eebc4e9",
        "colab": {
          "base_uri": "https://localhost:8080/",
          "height": 92
        }
      },
      "source": [
        "print(sequence[2])\n",
        "print(label[2])\n",
        "print(raw[2])\n",
        "print(len(raw))"
      ],
      "execution_count": 6,
      "outputs": [
        {
          "output_type": "stream",
          "text": [
            "['e', 't', 'o', 'n']\n",
            "e\n",
            "[['e', 't', 'o', 'n'], 'e']\n",
            "6267\n"
          ],
          "name": "stdout"
        }
      ]
    },
    {
      "cell_type": "code",
      "metadata": {
        "id": "79tJnFt7dlCe",
        "colab_type": "code",
        "outputId": "020d283a-a770-4e23-d705-f5e246364e60",
        "colab": {
          "base_uri": "https://localhost:8080/",
          "height": 1000
        }
      },
      "source": [
        "# go through and find each time the first part of raw is in there, and put the characters in a list\n",
        "possible_chars = []\n",
        "for i in raw:\n",
        "    \n",
        "    # i is the phrase and thing idk\n",
        "    phrase = i[0]\n",
        "    characters = []\n",
        "    for j in raw:\n",
        "        if(j[0]==phrase):\n",
        "            characters.append(j[1])\n",
        "    possible_chars.append(characters)\n",
        "    # print(len(possible_chars))\n",
        "    if(len(possible_chars)%100==0):\n",
        "        print(len(possible_chars), len(raw))\n",
        "for i in range(len(raw)):\n",
        "    raw[i][1] = possible_chars[i]\n",
        "    if(i%500==0):\n",
        "        print(i, (len(raw)))"
      ],
      "execution_count": 7,
      "outputs": [
        {
          "output_type": "stream",
          "text": [
            "100 6267\n",
            "200 6267\n",
            "300 6267\n",
            "400 6267\n",
            "500 6267\n",
            "600 6267\n",
            "700 6267\n",
            "800 6267\n",
            "900 6267\n",
            "1000 6267\n",
            "1100 6267\n",
            "1200 6267\n",
            "1300 6267\n",
            "1400 6267\n",
            "1500 6267\n",
            "1600 6267\n",
            "1700 6267\n",
            "1800 6267\n",
            "1900 6267\n",
            "2000 6267\n",
            "2100 6267\n",
            "2200 6267\n",
            "2300 6267\n",
            "2400 6267\n",
            "2500 6267\n",
            "2600 6267\n",
            "2700 6267\n",
            "2800 6267\n",
            "2900 6267\n",
            "3000 6267\n",
            "3100 6267\n",
            "3200 6267\n",
            "3300 6267\n",
            "3400 6267\n",
            "3500 6267\n",
            "3600 6267\n",
            "3700 6267\n",
            "3800 6267\n",
            "3900 6267\n",
            "4000 6267\n",
            "4100 6267\n",
            "4200 6267\n",
            "4300 6267\n",
            "4400 6267\n",
            "4500 6267\n",
            "4600 6267\n",
            "4700 6267\n",
            "4800 6267\n",
            "4900 6267\n",
            "5000 6267\n",
            "5100 6267\n",
            "5200 6267\n",
            "5300 6267\n",
            "5400 6267\n",
            "5500 6267\n",
            "5600 6267\n",
            "5700 6267\n",
            "5800 6267\n",
            "5900 6267\n",
            "6000 6267\n",
            "6100 6267\n",
            "6200 6267\n",
            "0 6267\n",
            "500 6267\n",
            "1000 6267\n",
            "1500 6267\n",
            "2000 6267\n",
            "2500 6267\n",
            "3000 6267\n",
            "3500 6267\n",
            "4000 6267\n",
            "4500 6267\n",
            "5000 6267\n",
            "5500 6267\n",
            "6000 6267\n"
          ],
          "name": "stdout"
        }
      ]
    },
    {
      "cell_type": "code",
      "metadata": {
        "id": "XQzoXU31gW-1",
        "colab_type": "code",
        "colab": {
          "base_uri": "https://localhost:8080/",
          "height": 54
        },
        "outputId": "f755bf38-bbe8-487e-f6b9-212626c37f9f"
      },
      "source": [
        "# remove duplicates\n",
        "newraw = [] \n",
        "[newraw.append(x) for x in raw if x not in newraw]\n",
        "print(len(newraw))\n",
        "print(len(raw))\n",
        "\n",
        "sequence = []\n",
        "label = []\n",
        "\n",
        "# print(newraw[0][1])\n",
        "for i in newraw:\n",
        "    sequence.append(i[0])\n",
        "    label.append(i[1])"
      ],
      "execution_count": 8,
      "outputs": [
        {
          "output_type": "stream",
          "text": [
            "2239\n",
            "6267\n"
          ],
          "name": "stdout"
        }
      ]
    },
    {
      "cell_type": "markdown",
      "metadata": {
        "id": "hizwR08ywibz",
        "colab_type": "text"
      },
      "source": [
        "# getting a result"
      ]
    },
    {
      "cell_type": "code",
      "metadata": {
        "id": "LnbHCGlVkDf-",
        "colab_type": "code",
        "colab": {}
      },
      "source": [
        "def predict(dummy_string, seed):\n",
        "    # dummy2 = [char for char in dummy_string]\n",
        "    if(len(label[sequence.index(list(dummy_string))])-1<seed):\n",
        "        return(label[sequence.index(list(dummy_string))][0])\n",
        "    else:\n",
        "        return(label[sequence.index(list(dummy_string))][seed])"
      ],
      "execution_count": 0,
      "outputs": []
    },
    {
      "cell_type": "code",
      "metadata": {
        "id": "e2TYV6ckmC-E",
        "colab_type": "code",
        "colab": {
          "base_uri": "https://localhost:8080/",
          "height": 36
        },
        "outputId": "ea02a9d6-3f11-4405-a60b-92dac99535c2"
      },
      "source": [
        "predict(sequence[0], 2)"
      ],
      "execution_count": 10,
      "outputs": [
        {
          "output_type": "execute_result",
          "data": {
            "text/plain": [
              "'i'"
            ]
          },
          "metadata": {
            "tags": []
          },
          "execution_count": 10
        }
      ]
    },
    {
      "cell_type": "code",
      "metadata": {
        "id": "7clGocCKmMTN",
        "colab_type": "code",
        "colab": {}
      },
      "source": [
        "def product(len, dummy_string, seed):\n",
        "    start = predict(dummy_string[-input_length:], seed)\n",
        "    full_text = dummy_string+start\n",
        "    start = dummy_string[1:]+start\n",
        "    for i in range(len):\n",
        "        predicted = predict(start, seed)\n",
        "        start = start[1:]\n",
        "        start+=predicted\n",
        "        full_text+=predicted\n",
        "        # print(full_text)\n",
        "        # print(start)\n",
        "    print(\"-\"*10 + \"FULL TEXT\" + \"-\"*10 + \"\\n\" + full_text)"
      ],
      "execution_count": 0,
      "outputs": []
    },
    {
      "cell_type": "code",
      "metadata": {
        "id": "Iw-NAGmusP1c",
        "colab_type": "code",
        "colab": {}
      },
      "source": [
        "def product_change_seed(len, dummy_string, seedarray, seedlength):\n",
        "\n",
        "    s_index = 0\n",
        "    seed = seedarray[s_index]\n",
        "\n",
        "    start = predict(dummy_string[-input_length:], seed)\n",
        "    full_text = dummy_string+start\n",
        "    start = dummy_string[1:]+start\n",
        "    for i in range(len):\n",
        "        s_index+=1\n",
        "        if(s_index%seedlength==0):\n",
        "            s_index = 0\n",
        "        seed = seedarray[s_index]\n",
        "\n",
        "\n",
        "        predicted = predict(start, seed)\n",
        "        start = start[1:]\n",
        "        start+=predicted\n",
        "        full_text+=predicted\n",
        "        # print(full_text)\n",
        "        # print(start)\n",
        "    print(\"-\"*10 + \"FULL TEXT\" + \"-\"*10 + \"\\n\" + full_text)"
      ],
      "execution_count": 0,
      "outputs": []
    },
    {
      "cell_type": "code",
      "metadata": {
        "id": "-HHzt2g2m988",
        "colab_type": "code",
        "colab": {
          "base_uri": "https://localhost:8080/",
          "height": 1000
        },
        "outputId": "331fabbe-d538-4944-a801-485e434e496f"
      },
      "source": [
        "# the seed is an array with a length 4 that has the equivelant of \"temperature\"\n",
        "# for a markov model\n",
        "# inspiration for that came from textgenrnn\n",
        "\n",
        "\n",
        "from random import randint\n",
        "lenseed = 220\n",
        "seed = []\n",
        "for i in range(lenseed):\n",
        "    seed.append(randint(0,20))\n",
        "# if you want to do it fully vanilla it wouldn't be that hard to just put numbers in an array as a seed\n",
        "# like: seed = [0, 2, 3]\n",
        "\n",
        "product_change_seed(1000, ''.join(sequence[0]), seed, len(seed))"
      ],
      "execution_count": 13,
      "outputs": [
        {
          "output_type": "stream",
          "text": [
            "----------FULL TEXT----------\n",
            "acetim\n",
            "phos\n",
            "chloride\n",
            "benzal chlorfenvinfos\n",
            "chlorophacinone\n",
            "cadmium cyanide\n",
            "bromine\n",
            "fluoride\n",
            "cobalt carbonitrocresol\n",
            "dialifor\n",
            "diborane\n",
            "thallous carbate\n",
            "dichloromethyl\n",
            "azinphos\n",
            "crimidazole\n",
            "furan\n",
            "carbon disulfoton\n",
            "amine\n",
            "dichloride\n",
            "benzal chloroxuron\n",
            "chloroethanediylbis\n",
            "colchicine\n",
            "dialifor\n",
            "diborane\n",
            "phenylsilane\n",
            "decaborane\n",
            "thiocyanate\n",
            "cadmium compound with methyl ether\n",
            "bromide\n",
            "bromide\n",
            "chlorochlorochloride\n",
            "arsenic pentaborane\n",
            "thallium compound with methylphenothiocyanuric chlorfenvinfos\n",
            "chlormephos\n",
            "muscimol\n",
            "nickel carbamic acid\n",
            "semicarbate\n",
            "methyl-aniline\n",
            "demethyl-aniline\n",
            "cadmium selenious malononitrile\n",
            "acrolein\n",
            "acetic acid\n",
            "methylene fluoride\n",
            "cadmium hydrogen chloride\n",
            "boron trichlor\n",
            "cantharidin\n",
            "carbamic acid\n",
            "semicarbonitrile\n",
            "leptophos\n",
            "dichloroformate\n",
            "amine\n",
            "methyl-aniline\n",
            "demethyl-aniline\n",
            "cadmium selenious malononitrile\n",
            "acrolein\n",
            "acetic acid\n",
            "methylene fluoride\n",
            "cadmium hydrogen chloride\n",
            "boron trichlor\n",
            "cantharidin\n",
            "carbamic acid\n",
            "semicarbonitrile\n",
            "leptophos\n",
            "dichloroformate\n",
            "amine\n",
            "methyl-aniline\n",
            "demethyl-a\n"
          ],
          "name": "stdout"
        }
      ]
    },
    {
      "cell_type": "code",
      "metadata": {
        "id": "Yco3NOtW6jhy",
        "colab_type": "code",
        "colab": {
          "base_uri": "https://localhost:8080/",
          "height": 1000
        },
        "outputId": "d2a6b979-f12b-49db-8f7f-8d31b45058ad"
      },
      "source": [
        "# predicting from previously unknown parts?\n",
        "\n",
        "input_string = input('Prefix: ')\n",
        "input_string = list(input_string)\n",
        "\n",
        "maxscore=0\n",
        "input_index=0\n",
        "\n",
        "for i in range(len(sequence)):\n",
        "    score = 0\n",
        "    for j in range(len(sequence[i])):\n",
        "        if(sequence[i][-j]==input_string[-j]):\n",
        "            score+=1\n",
        "    \n",
        "    if(score>maxscore):\n",
        "        input_index = i\n",
        "        maxscore = score\n",
        "\n",
        "input_string = ''.join(sequence[input_index])\n",
        "print(input_string, maxscore)\n",
        "\n",
        "\n",
        "lenseed = 220\n",
        "seed = []\n",
        "for i in range(lenseed):\n",
        "    seed.append(randint(0,20))\n",
        "# if you want to do it fully vanilla it wouldn't be that hard to just put numbers in an array as a seed\n",
        "# like: seed = [0, 2, 3]\n",
        "\n",
        "product_change_seed(1000, input_string, seed, len(seed))"
      ],
      "execution_count": 18,
      "outputs": [
        {
          "output_type": "stream",
          "text": [
            "Prefix: johnathan\n",
            "than 3\n",
            "----------FULL TEXT----------\n",
            "thanol\n",
            "chloride\n",
            "benzan\n",
            "isophosphate\n",
            "methyl methylphenate\n",
            "mechlorfenvinfos\n",
            "tetraethylphenothioate\n",
            "mercuric fluoride\n",
            "acrolein\n",
            "acetic acid\n",
            "fluenetilane\n",
            "decaborane\n",
            "nitrile\n",
            "acrolein\n",
            "acetone diisocyanohydrochloroacetone cyanate\n",
            "methyldimethyl isocyanate\n",
            "methyl-benzal chlorosilane\n",
            "pentachloride\n",
            "chloride\n",
            "acrolein\n",
            "acetamide\n",
            "benzal chloride\n",
            "cyanohydrin\n",
            "isobenzal chloride\n",
            "boron tribromadiolone\n",
            "benzal chloride\n",
            "bicycloheptane-carb\n",
            "methyl ethemoglobin formate\n",
            "calcium cacodylate\n",
            "ethanol\n",
            "chloroethanol\n",
            "chloroacetamine\n",
            "aldichloride\n",
            "carbonitrile\n",
            "methylthiocyanaminopterin\n",
            "acetyl chloride\n",
            "boron tellurium\n",
            "polone\n",
            "bicycloheptane-carbonitrobenzal chlorfenvinfos\n",
            "chlormephosphorochloromethylthion\n",
            "endosulfotonaldehyde\n",
            "cyanide\n",
            "cadmium hydroquinone\n",
            "benzal chlormers\n",
            "4-methyl\n",
            "azinphos\n",
            "methyl phos\n",
            "chloride\n",
            "acrolein\n",
            "acetic acid\n",
            "methyl-aniline\n",
            "hexachlordane\n",
            "thallium oxide\n",
            "acrylamide\n",
            "cadmium arsenate\n",
            "methyl keton-s-methoxyethyldimethyl\n",
            "azinphosgene\n",
            "hexachloroacetamine\n",
            "aldichloride\n",
            "carbonitrile\n",
            "methylthiocyanaminopterin\n",
            "acetyl\n"
          ],
          "name": "stdout"
        }
      ]
    },
    {
      "cell_type": "code",
      "metadata": {
        "id": "0JYMC3P9hf9g",
        "colab_type": "code",
        "colab": {}
      },
      "source": [
        ""
      ],
      "execution_count": 0,
      "outputs": []
    }
  ]
}